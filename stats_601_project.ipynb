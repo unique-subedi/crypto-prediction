{
  "cells": [
    {
      "cell_type": "markdown",
      "metadata": {
        "id": "view-in-github",
        "colab_type": "text"
      },
      "source": [
        "<a href=\"https://colab.research.google.com/github/yashpatel5400/crypto-prediction/blob/main/stats_601_project.ipynb\" target=\"_parent\"><img src=\"https://colab.research.google.com/assets/colab-badge.svg\" alt=\"Open In Colab\"/></a>"
      ]
    },
    {
      "cell_type": "code",
      "execution_count": 2,
      "metadata": {
        "id": "ccADqYamxwt0",
        "colab": {
          "base_uri": "https://localhost:8080/"
        },
        "outputId": "93d2fe6f-e7d7-49a4-ab7e-5c377a0dbf15"
      },
      "outputs": [
        {
          "output_type": "execute_result",
          "data": {
            "text/plain": [
              "('volu.csv', <http.client.HTTPMessage at 0x7f98d6c0bf50>)"
            ]
          },
          "metadata": {},
          "execution_count": 2
        }
      ],
      "source": [
        "import os\n",
        "import datetime\n",
        "import time\n",
        "import numpy as np\n",
        "import matplotlib.pyplot as plt\n",
        "import pandas as pd\n",
        "import lightgbm as lgb\n",
        "import urllib.request\n",
        "\n",
        "url = \"https://media.githubusercontent.com/media/yashpatel5400/crypto-prediction/main/log_pr.csv\"\n",
        "urllib.request.urlretrieve(url, \"log_pr.csv\")\n",
        "\n",
        "url = \"https://media.githubusercontent.com/media/yashpatel5400/crypto-prediction/main/volu.csv\"\n",
        "urllib.request.urlretrieve(url, \"volu.csv\")"
      ]
    },
    {
      "cell_type": "code",
      "execution_count": 3,
      "metadata": {
        "id": "28-5_8JZxwt2"
      },
      "outputs": [],
      "source": [
        "log_pr = pd.read_csv(\"log_pr.csv\", index_col= 0)\n",
        "volu = pd.read_csv(\"volu.csv\", index_col= 0)\n",
        "\n",
        "log_pr.index = pd.to_datetime(log_pr.index)\n",
        "volu.index = pd.to_datetime(volu.index)\n"
      ]
    },
    {
      "cell_type": "code",
      "execution_count": 4,
      "metadata": {
        "id": "yrHfzn9Zxwt2"
      },
      "outputs": [],
      "source": [
        "def construct_dataset(window_size, dataset):\n",
        "    \"\"\"\n",
        "    window: look-back window size for constructing X (in minutes)\n",
        "    \"\"\"\n",
        "    window_dt = datetime.timedelta(minutes=window_size)\n",
        "    predict_dt = datetime.timedelta(minutes=30)\n",
        "\n",
        "    window_X = []\n",
        "    window_y = []\n",
        "\n",
        "    for t in dataset.index[window_size:-window_size:10]: # compute the predictions every 10 minutes\n",
        "      window_X.append(dataset.loc[(t - window_dt):t])\n",
        "      window_y.append(dataset.loc[t + predict_dt] - dataset.loc[t])\n",
        "        \n",
        "    return np.array(window_X), np.array(window_y)"
      ]
    },
    {
      "cell_type": "code",
      "execution_count": 5,
      "metadata": {
        "id": "xdLNue6Exwt3"
      },
      "outputs": [],
      "source": [
        "def construct_pr_vol_datasets(window_size):\n",
        "    \"\"\"\n",
        "    window: look-back window size for constructing X (in minutes)\n",
        "    \"\"\"\n",
        "    return construct_dataset(window_size, log_pr), construct_dataset(window_size, volu)"
      ]
    },
    {
      "cell_type": "code",
      "execution_count": 6,
      "metadata": {
        "colab": {
          "base_uri": "https://localhost:8080/"
        },
        "id": "C76C34ZNxwt3",
        "outputId": "8d83714c-f487-4a9d-ec9a-a1029007b067"
      },
      "outputs": [
        {
          "output_type": "stream",
          "name": "stdout",
          "text": [
            "(26476, 101, 10)\n",
            "(26476, 10)\n",
            "(21476, 101, 10)\n",
            "(21476, 10)\n",
            "(5000, 101, 10)\n",
            "(5000, 10)\n"
          ]
        }
      ],
      "source": [
        "window_size = 100 # in minutes\n",
        "log_pr_ds, volu_ds = construct_pr_vol_datasets(window_size)\n",
        "log_pr_X, log_pr_y = log_pr_ds\n",
        "volu_X, volu_y = volu_ds\n",
        "\n",
        "print(log_pr_X.shape)\n",
        "print(log_pr_y.shape)\n",
        "\n",
        "num_test = 5000\n",
        "X_train = log_pr_X[:-num_test, :, :]\n",
        "y_train = log_pr_y[:-num_test, :]\n",
        "\n",
        "X_test = log_pr_X[-num_test:, :, :]\n",
        "y_test = log_pr_y[-num_test:, :]\n",
        "\n",
        "print(X_train.shape)\n",
        "print(y_train.shape)\n",
        "\n",
        "print(X_test.shape)\n",
        "print(y_test.shape)"
      ]
    },
    {
      "cell_type": "markdown",
      "source": [
        "#LSTMs"
      ],
      "metadata": {
        "id": "ZS5aTovmSQTc"
      }
    },
    {
      "cell_type": "code",
      "source": [
        "import torch\n",
        "import torch.nn as nn\n",
        "import torch.nn.functional as F\n",
        "import torch.optim as optim\n",
        "from torch.autograd import Variable \n",
        "\n",
        "if torch.cuda.is_available():\n",
        "  device = torch.device(\"cuda\")\n",
        "else:\n",
        "  device = torch.device(\"cpu\")\n",
        "\n",
        "print(device)"
      ],
      "metadata": {
        "colab": {
          "base_uri": "https://localhost:8080/"
        },
        "id": "izfnP2X2ZrLz",
        "outputId": "6627c237-42f6-4f30-df56-4bc4214e7828"
      },
      "execution_count": 7,
      "outputs": [
        {
          "output_type": "stream",
          "name": "stdout",
          "text": [
            "cuda\n"
          ]
        }
      ]
    },
    {
      "cell_type": "code",
      "source": [
        "X_train_tensors = Variable(torch.Tensor(X_train).to(device))\n",
        "X_test_tensors = Variable(torch.Tensor(X_test))\n",
        "\n",
        "y_train_tensors = Variable(torch.Tensor(y_train).to(device))\n",
        "y_test_tensors = Variable(torch.Tensor(y_test)) \n",
        "print(\"Training Shape\", X_train_tensors.shape, y_train_tensors.shape)\n",
        "print(\"Testing Shape\", X_test_tensors.shape, y_test_tensors.shape) "
      ],
      "metadata": {
        "colab": {
          "base_uri": "https://localhost:8080/"
        },
        "id": "Kt55VF6CYXx1",
        "outputId": "6469ddcf-fd01-4cad-d897-1041d0e321e9"
      },
      "execution_count": 8,
      "outputs": [
        {
          "output_type": "stream",
          "name": "stdout",
          "text": [
            "Training Shape torch.Size([21476, 101, 10]) torch.Size([21476, 10])\n",
            "Testing Shape torch.Size([5000, 101, 10]) torch.Size([5000, 10])\n"
          ]
        }
      ]
    },
    {
      "cell_type": "code",
      "source": [
        "class LSTM1(nn.Module):\n",
        "    def __init__(self, output_size, input_size, hidden_size, num_layers, seq_length):\n",
        "        super(LSTM1, self).__init__()\n",
        "        self.output_size = output_size #number of classes\n",
        "        self.num_layers = num_layers #number of layers\n",
        "        self.input_size = input_size #input size\n",
        "        self.hidden_size = hidden_size #hidden state\n",
        "        self.seq_length = seq_length #sequence length\n",
        "\n",
        "        self.lstm = nn.LSTM(input_size=input_size, hidden_size=hidden_size,\n",
        "                          num_layers=num_layers, batch_first=True) #lstm\n",
        "        self.fc1 = nn.Linear(hidden_size, 32)\n",
        "        self.relu = nn.ReLU()\n",
        "        self.fc = nn.Linear(32, output_size) #fully connected last layer\n",
        "    \n",
        "    def forward(self,x):\n",
        "        output, (hn, cn) = self.lstm(x) #lstm with input, hidden, and internal state\n",
        "        hn = hn.view(-1, self.hidden_size) #reshaping the data for Dense layer next\n",
        "        out = self.fc1(hn)\n",
        "        out = self.relu(out)\n",
        "        out = self.fc(out) #Final Output\n",
        "        return out"
      ],
      "metadata": {
        "id": "CQHjSqpJSPxG"
      },
      "execution_count": 9,
      "outputs": []
    },
    {
      "cell_type": "code",
      "source": [
        "num_epochs = 100 #1000 epochs\n",
        "learning_rate = 0.001 #0.001 lr\n",
        "\n",
        "input_size = 10 #number of features\n",
        "hidden_size = 128 #number of features in hidden state\n",
        "num_layers = 1 #number of stacked lstm layers\n",
        "\n",
        "output_size = 10 #number of output classes\n",
        "\n",
        "lstm1 = LSTM1(output_size, input_size, hidden_size, num_layers, X_train_tensors.shape[1]) \n",
        "lstm1 = lstm1.to(device)\n",
        "criterion = torch.nn.MSELoss()    # mean-squared error for regression\n",
        "optimizer = torch.optim.Adam(lstm1.parameters(), lr=learning_rate)"
      ],
      "metadata": {
        "id": "9ndy3ZdgV94S"
      },
      "execution_count": 10,
      "outputs": []
    },
    {
      "cell_type": "code",
      "source": [
        "for epoch in range(num_epochs):\n",
        "  outputs = lstm1.forward(X_train_tensors) \n",
        "  optimizer.zero_grad() \n",
        " \n",
        "  # obtain the loss function\n",
        "  loss = criterion(outputs, y_train_tensors)\n",
        " \n",
        "  loss.backward() \n",
        " \n",
        "  optimizer.step() #improve from loss, i.e backprop\n",
        "  if epoch % 2 == 0:\n",
        "    print(\"Epoch: %d, loss: %1.5f\" % (epoch, loss.item())) "
      ],
      "metadata": {
        "colab": {
          "base_uri": "https://localhost:8080/"
        },
        "id": "08j9WqBBWsSm",
        "outputId": "5f25cd51-a650-43cb-c593-63ecacadddd6"
      },
      "execution_count": 11,
      "outputs": [
        {
          "output_type": "stream",
          "name": "stdout",
          "text": [
            "Epoch: 0, loss: 0.01893\n",
            "Epoch: 2, loss: 0.01448\n",
            "Epoch: 4, loss: 0.01080\n",
            "Epoch: 6, loss: 0.00739\n",
            "Epoch: 8, loss: 0.00442\n",
            "Epoch: 10, loss: 0.00275\n",
            "Epoch: 12, loss: 0.00333\n",
            "Epoch: 14, loss: 0.00220\n",
            "Epoch: 16, loss: 0.00121\n",
            "Epoch: 18, loss: 0.00091\n",
            "Epoch: 20, loss: 0.00081\n",
            "Epoch: 22, loss: 0.00065\n",
            "Epoch: 24, loss: 0.00043\n",
            "Epoch: 26, loss: 0.00025\n",
            "Epoch: 28, loss: 0.00019\n",
            "Epoch: 30, loss: 0.00022\n",
            "Epoch: 32, loss: 0.00021\n",
            "Epoch: 34, loss: 0.00016\n",
            "Epoch: 36, loss: 0.00011\n",
            "Epoch: 38, loss: 0.00009\n",
            "Epoch: 40, loss: 0.00009\n",
            "Epoch: 42, loss: 0.00008\n",
            "Epoch: 44, loss: 0.00007\n",
            "Epoch: 46, loss: 0.00005\n",
            "Epoch: 48, loss: 0.00005\n",
            "Epoch: 50, loss: 0.00005\n",
            "Epoch: 52, loss: 0.00004\n",
            "Epoch: 54, loss: 0.00004\n",
            "Epoch: 56, loss: 0.00004\n",
            "Epoch: 58, loss: 0.00004\n",
            "Epoch: 60, loss: 0.00003\n",
            "Epoch: 62, loss: 0.00003\n",
            "Epoch: 64, loss: 0.00003\n",
            "Epoch: 66, loss: 0.00003\n",
            "Epoch: 68, loss: 0.00003\n",
            "Epoch: 70, loss: 0.00003\n",
            "Epoch: 72, loss: 0.00003\n",
            "Epoch: 74, loss: 0.00003\n",
            "Epoch: 76, loss: 0.00003\n",
            "Epoch: 78, loss: 0.00003\n",
            "Epoch: 80, loss: 0.00003\n",
            "Epoch: 82, loss: 0.00003\n",
            "Epoch: 84, loss: 0.00003\n",
            "Epoch: 86, loss: 0.00003\n",
            "Epoch: 88, loss: 0.00003\n",
            "Epoch: 90, loss: 0.00003\n",
            "Epoch: 92, loss: 0.00003\n",
            "Epoch: 94, loss: 0.00003\n",
            "Epoch: 96, loss: 0.00003\n",
            "Epoch: 98, loss: 0.00003\n"
          ]
        }
      ]
    },
    {
      "cell_type": "code",
      "source": [
        "lstm1 = lstm1.to(torch.device(\"cpu\"))\n",
        "torch.save(lstm1.state_dict(), \"/content/lstm_model.pth\")"
      ],
      "metadata": {
        "id": "yzZ-1cPQc436"
      },
      "execution_count": 12,
      "outputs": []
    },
    {
      "cell_type": "code",
      "source": [
        "print( np.expand_dims(log_pr.iloc[-31:, :].to_numpy(), 0).shape)"
      ],
      "metadata": {
        "colab": {
          "base_uri": "https://localhost:8080/"
        },
        "id": "uZvySfrKfYEQ",
        "outputId": "d502b27a-a330-4862-a39d-12281ca8512c"
      },
      "execution_count": 13,
      "outputs": [
        {
          "output_type": "stream",
          "name": "stdout",
          "text": [
            "(1, 31, 10)\n"
          ]
        }
      ]
    },
    {
      "cell_type": "code",
      "source": [
        "lstm1.load_state_dict(torch.load(\"/content/lstm_model.pth\"))\n",
        "lstm1.eval()\n",
        "lstm1 = lstm1.to(torch.device(\"cpu\"))"
      ],
      "metadata": {
        "id": "blDR3M_w4Kiq"
      },
      "execution_count": 14,
      "outputs": []
    },
    {
      "cell_type": "markdown",
      "source": [
        "#GBoost"
      ],
      "metadata": {
        "id": "1gf6H1IXWs9j"
      }
    },
    {
      "cell_type": "code",
      "execution_count": 15,
      "metadata": {
        "id": "JDMGIEIaxwt5"
      },
      "outputs": [],
      "source": [
        "class GBoost:\n",
        "    def __init__(self, num_assets=10):\n",
        "        self.models = []\n",
        "        self.num_assets = num_assets\n",
        "\n",
        "    def fit(self, X, y):\n",
        "        for asset_index in range(10):\n",
        "            asset_X = np.array(X[:, :, asset_index])\n",
        "            asset_y = np.array(y[:, asset_index])\n",
        "\n",
        "            # X_train = np.array(one_asset_X[:-5000, :])\n",
        "            # y_train = np.array(one_asset_y[:-5000])\n",
        "\n",
        "            model = lgb.LGBMRegressor()\n",
        "            model.fit(asset_X, asset_y)\n",
        "\n",
        "            self.models.append(model)\n",
        "\n",
        "    def predict_one(self, X): #given data for just one sequence.\n",
        "        final_predictions = []\n",
        "        for asset_index in range(10):\n",
        "            features = np.expand_dims(X[-31:, asset_index], 0)\n",
        "            pred = self.models[asset_index].predict(features)\n",
        "            final_predictions.append(pred)\n",
        "        final_predictions = np.array(final_predictions).squeeze()\n",
        "        return final_predictions\n",
        "\n",
        "    def predict(self, X): #multiple sequences:\n",
        "        final_predictions = []\n",
        "        for i in range(len(X)):\n",
        "            tmp_predictions = []\n",
        "            for asset_index in range(10):\n",
        "                features = np.array(np.expand_dims(X[i, -31:, asset_index], 0))\n",
        "                pred = self.models[asset_index].predict(features)[0]\n",
        "                tmp_predictions.append(pred)\n",
        "            final_predictions.append(tmp_predictions)\n",
        "            \n",
        "        return np.array(final_predictions)\n"
      ]
    },
    {
      "cell_type": "code",
      "source": [
        "#train \n",
        "boost_model = GBoost()\n",
        "boost_model.fit(X_train, y_train)"
      ],
      "metadata": {
        "id": "h7ZBn1JEhUzC"
      },
      "execution_count": 16,
      "outputs": []
    },
    {
      "cell_type": "markdown",
      "source": [
        "#Evaluation"
      ],
      "metadata": {
        "id": "PqnE4kzzhSsY"
      }
    },
    {
      "cell_type": "code",
      "execution_count": 17,
      "metadata": {
        "id": "9mprkHj3xwt6"
      },
      "outputs": [],
      "source": [
        "# Use the negative 30-minutes backward log-returns to predict the 30-minutes forward log-returns\n",
        "#predict the log price, and then do correlation\n",
        "\n",
        "def get_r_hat_baseline(A, B):\n",
        "    return -(A.iloc[-1] - A.iloc[-30]).values "
      ]
    },
    {
      "cell_type": "code",
      "execution_count": 18,
      "metadata": {
        "id": "Ii-0UMoWxwt6"
      },
      "outputs": [],
      "source": [
        "def get_r_hat_gboost(A, B):\n",
        "    preds = boost_model.predict_one(A.to_numpy())\n",
        "    return preds"
      ]
    },
    {
      "cell_type": "code",
      "source": [
        "def get_r_hat_lstm(A, B):\n",
        "  input = np.expand_dims( A.iloc[-31:, :].to_numpy(), 0)\n",
        "  input = Variable(torch.Tensor(input))\n",
        "  pred = lstm1(input).detach().cpu().numpy()\n",
        "  return pred.squeeze()"
      ],
      "metadata": {
        "id": "u41btF83fFM8"
      },
      "execution_count": 19,
      "outputs": []
    },
    {
      "cell_type": "code",
      "execution_count": 29,
      "metadata": {
        "id": "qMc8AuzExwt6"
      },
      "outputs": [],
      "source": [
        "# An example of get_r_hat\n",
        "\n",
        "ACTIVE_R_HAT = \"lstm\"\n",
        "\n",
        "r_hat_implementations = {\n",
        "    \"baseline\": get_r_hat_baseline, # 0.040118694541047606\n",
        "    \"gboost\": get_r_hat_gboost,\n",
        "    \"lstm\": get_r_hat_lstm\n",
        "}\n",
        "\n",
        "def get_r_hat(A, B): \n",
        "    \"\"\"\n",
        "        A: 1440-by-10 dataframe of log prices with columns log_pr_0, ... , log_pr_9\n",
        "        B: 1440-by-10 dataframe of trading volumes with columns volu_0, ... , volu_9    \n",
        "        return: a numpy array of length 10, corresponding to the predictions for the forward 30-minutes returns of assets 0, 1, 2, ..., 9\n",
        "    \"\"\"\n",
        "    # print(A.shape)\n",
        "    return r_hat_implementations[ACTIVE_R_HAT](A, B)"
      ]
    },
    {
      "cell_type": "code",
      "execution_count": 30,
      "metadata": {
        "id": "RN6LhZA_xwt7"
      },
      "outputs": [],
      "source": [
        "def get_model_corr(input_df):\n",
        "    t0 = time.time()\n",
        "    dt = datetime.timedelta(days=1)\n",
        "    r_hat = pd.DataFrame(index=input_df.index[1440::10], columns=np.arange(10), dtype=np.float64)\n",
        "    for t in input_df.index[1440::10]: # compute the predictions every 10 minutes\n",
        "        r_hat.loc[t, :] = get_r_hat(input_df.loc[(t - dt):t], volu.loc[(t - dt):t])\n",
        "    t_used = time.time() - t0\n",
        "    \n",
        "    r_fwd = (input_df.shift(-30+1440) - input_df).iloc[1440::10].rename(columns={f\"input_df_{i}\": i for i in range(10)})\n",
        "    r_fwd.corrwith(r_hat)\n",
        "    \n",
        "    r_fwd_all = r_fwd.iloc[:-3].values.ravel() # the final 3 rows are NaNs. \n",
        "    r_hat_all = r_hat.iloc[:-3].values.ravel()\n",
        "    \n",
        "    return np.corrcoef(r_fwd_all, r_hat_all)[0, 1]\n",
        "# def get_model_accuracy():\n",
        "#     t0 = time.time()\n",
        "#     dt = datetime.timedelta(days=1)\n",
        "#     r_hat = pd.DataFrame(index=log_pr.index[30::10], columns=np.arange(10), dtype=np.float64)\n",
        "#     for t in log_pr.index[30::10]: # compute the predictions every 10 minutes\n",
        "#         r_hat.loc[t, :] = get_r_hat(log_pr.loc[(t - dt):t], volu.loc[(t - dt):t])\n",
        "#     t_used = time.time() - t0\n",
        "    \n",
        "#     r_fwd = (log_pr.shift(-30) - log_pr).iloc[30::10].rename(columns={f\"log_pr_{i}\": i for i in range(10)})\n",
        "#     r_fwd.corrwith(r_hat)\n",
        "    \n",
        "#     r_fwd_all = r_fwd.iloc[:-3].values.ravel() # the final 3 rows are NaNs. \n",
        "#     print(r_fwd_all.shape)\n",
        "#     r_hat_all = r_hat.iloc[:-3].values.ravel()\n",
        "    \n",
        "#     return np.corrcoef(r_fwd_all, r_hat_all)[0, 1]"
      ]
    },
    {
      "cell_type": "code",
      "execution_count": 31,
      "metadata": {
        "colab": {
          "base_uri": "https://localhost:8080/"
        },
        "id": "lIOf2aSxxwt8",
        "outputId": "6ed22454-7ee9-4dee-b8fc-8f6bed24cdb9"
      },
      "outputs": [
        {
          "output_type": "stream",
          "name": "stdout",
          "text": [
            "(5000, 10)\n"
          ]
        },
        {
          "output_type": "execute_result",
          "data": {
            "text/plain": [
              "0.029624934743779387"
            ]
          },
          "metadata": {},
          "execution_count": 31
        }
      ],
      "source": [
        "log_pr_test = log_pr.iloc[-num_test:, :]\n",
        "print(log_pr_test.shape)\n",
        "get_model_corr(log_pr_test)"
      ]
    },
    {
      "cell_type": "code",
      "source": [
        ""
      ],
      "metadata": {
        "id": "NQ55EjHLUvq_"
      },
      "execution_count": null,
      "outputs": []
    }
  ],
  "metadata": {
    "colab": {
      "collapsed_sections": [],
      "name": "stats_601_project.ipynb",
      "provenance": [],
      "include_colab_link": true
    },
    "kernelspec": {
      "display_name": "Python 3 (ipykernel)",
      "language": "python",
      "name": "python3"
    },
    "language_info": {
      "codemirror_mode": {
        "name": "ipython",
        "version": 3
      },
      "file_extension": ".py",
      "mimetype": "text/x-python",
      "name": "python",
      "nbconvert_exporter": "python",
      "pygments_lexer": "ipython3",
      "version": "3.8.12"
    },
    "accelerator": "GPU"
  },
  "nbformat": 4,
  "nbformat_minor": 0
}